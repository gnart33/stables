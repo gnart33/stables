{
 "cells": [
  {
   "cell_type": "code",
   "execution_count": 1,
   "metadata": {},
   "outputs": [],
   "source": [
    "from stables.data import DeFiLlamaAPI\n",
    "from stables.transform import DeFiLlamaTransformer\n",
    "from stables.visualization import  StableVisualizer\n",
    "defillama_api = DeFiLlamaAPI()\n",
    "def get_yield_pool_df(pool: str):\n",
    "    _yield = defillama_api.fetch_yield_pool(pool=pool)\n",
    "    yield_pool_df = DeFiLlamaTransformer.yield_pool_to_df(_yield)\n",
    "    return yield_pool_df\n"
   ]
  },
  {
   "cell_type": "code",
   "execution_count": null,
   "metadata": {},
   "outputs": [],
   "source": [
    "ybs_pools = {\n",
    "    \"SCRVUSD\": \"5fd328af-4203-471b-bd16-1705c726d926\",\n",
    "    \"fxSAVE\": \"ee0b7069-f8f3-4aa2-a415-728f13e6cc3d\",\n",
    "    \"stUSR\": \"0aedb3f6-9298-49de-8bb0-2f611a4df784\",\n",
    "    \"sUSDe\": \"66985a81-9c51-46ca-9977-42b4fe7bc6df\",\n",
    "    \"sfrxUSD\": \"42523cca-14b0-44f6-95fb-4781069520a5\",\n",
    "    \"sUSDS\": \"d8c4eff5-c8a9-46fc-a888-057c4c668e72\"\n",
    "}\n",
    "ybs_yields = {\n",
    "    symbol: get_yield_pool_df(pool=ybs_pools[symbol])\n",
    "    for symbol in ybs_pools\n",
    "}\n",
    "fig = StableVisualizer.plot_yields(ybs_yields)\n",
    "fig.show()\n"
   ]
  }
 ],
 "metadata": {
  "kernelspec": {
   "display_name": ".venv",
   "language": "python",
   "name": "python3"
  },
  "language_info": {
   "codemirror_mode": {
    "name": "ipython",
    "version": 3
   },
   "file_extension": ".py",
   "mimetype": "text/x-python",
   "name": "python",
   "nbconvert_exporter": "python",
   "pygments_lexer": "ipython3",
   "version": "3.11.7"
  }
 },
 "nbformat": 4,
 "nbformat_minor": 2
}
